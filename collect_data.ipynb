{
 "cells": [
  {
   "cell_type": "code",
   "execution_count": 1,
   "metadata": {},
   "outputs": [
    {
     "name": "stderr",
     "output_type": "stream",
     "text": [
      "/home/t-gummavarun/.miniconda3/envs/ofa/lib/python3.12/site-packages/tqdm/auto.py:21: TqdmWarning: IProgress not found. Please update jupyter and ipywidgets. See https://ipywidgets.readthedocs.io/en/stable/user_install.html\n",
      "  from .autonotebook import tqdm as notebook_tqdm\n"
     ]
    }
   ],
   "source": [
    "import json\n",
    "import os\n",
    "from tqdm import tqdm\n",
    "from random import shuffle\n",
    "from dotenv import load_dotenv\n",
    "from datasets import load_dataset\n",
    "\n",
    "load_dotenv()\n",
    "\n",
    "all_rows = []\n",
    "HF_TOKEN = os.environ[\"HF_TOKEN\"]\n",
    "\n",
    "os.makedirs(\"raw_data\", exist_ok=True)"
   ]
  },
  {
   "cell_type": "code",
   "execution_count": 2,
   "metadata": {},
   "outputs": [
    {
     "name": "stderr",
     "output_type": "stream",
     "text": [
      "Downloading data: 100%|██████████| 1.01G/1.01G [00:14<00:00, 69.1MB/s]\n",
      "Generating train split: 100%|██████████| 994896/994896 [00:05<00:00, 174758.20 examples/s]\n",
      "994896it [00:30, 32706.50it/s]       \n"
     ]
    }
   ],
   "source": [
    "ds = load_dataset(\"Open-Orca/1million-gpt-4\", trust_remote_code=True, token=HF_TOKEN)\n",
    "\n",
    "for row in tqdm(ds[\"train\"], total=len(ds)):\n",
    "    sys_prompt = (\n",
    "        row[\"system_prompt\"].strip()\n",
    "        if row[\"system_prompt\"]\n",
    "        else \"You are a helpful AI assistant. Answer the following question, as per the given instructions.\"\n",
    "    )\n",
    "    user_prompt = row[\"question\"].strip()\n",
    "    assistant = row[\"response\"].strip()\n",
    "\n",
    "    all_rows.append({\"messages\": [\n",
    "        {\"role\": \"system\", \"content\": sys_prompt},\n",
    "        {\"role\": \"user\", \"content\": user_prompt},\n",
    "        {\"role\": \"assistant\", \"content\": assistant}\n",
    "    ]})"
   ]
  },
  {
   "cell_type": "code",
   "execution_count": 3,
   "metadata": {},
   "outputs": [
    {
     "name": "stderr",
     "output_type": "stream",
     "text": [
      "Downloading readme: 100%|██████████| 321/321 [00:00<00:00, 2.55MB/s]\n",
      "Downloading data: 100%|██████████| 115M/115M [00:01<00:00, 70.5MB/s] \n",
      "Generating train split: 100%|██████████| 200035/200035 [00:00<00:00, 245737.30 examples/s]\n",
      "200035it [00:03, 52929.25it/s]       \n"
     ]
    }
   ],
   "source": [
    "ds = load_dataset(\"PawanKrd/math-gpt-4o-200k\", trust_remote_code=True, token=HF_TOKEN)\n",
    "\n",
    "for row in tqdm(ds[\"train\"], total=len(ds)):\n",
    "    sys_prompt = \"You are a helpful AI math assistant. Answer the following question, and provide a step-by-step logical solution.\"\n",
    "    user_prompt = row[\"prompt\"].strip()\n",
    "    assistant = row[\"response\"].strip()\n",
    "\n",
    "    all_rows.append({\"messages\": [\n",
    "        {\"role\": \"system\", \"content\": sys_prompt},\n",
    "        {\"role\": \"user\", \"content\": user_prompt},\n",
    "        {\"role\": \"assistant\", \"content\": assistant}\n",
    "    ]})"
   ]
  },
  {
   "cell_type": "code",
   "execution_count": 4,
   "metadata": {},
   "outputs": [
    {
     "name": "stderr",
     "output_type": "stream",
     "text": [
      "Downloading readme: 100%|██████████| 356/356 [00:00<00:00, 3.54MB/s]\n",
      "Downloading data: 100%|██████████| 239M/239M [00:15<00:00, 15.6MB/s] \n",
      "Generating train split: 100%|██████████| 200023/200023 [00:01<00:00, 192992.09 examples/s]\n",
      "200023it [00:05, 35909.66it/s]       \n"
     ]
    }
   ],
   "source": [
    "ds = load_dataset(\"PawanKrd/gpt-4o-200k\", trust_remote_code=True, token=HF_TOKEN)\n",
    "\n",
    "for row in tqdm(ds[\"train\"], total=len(ds)):\n",
    "    sys_prompt = (\n",
    "        row[\"system\"].strip()\n",
    "        if row[\"system\"]\n",
    "        else \"You are a helpful AI assistant. Answer the following question, as per the given instructions.\"\n",
    "    )\n",
    "    user_prompt = row[\"prompt\"].strip()\n",
    "    assistant = row[\"response\"].strip()\n",
    "\n",
    "    all_rows.append({\"messages\": [\n",
    "        {\"role\": \"system\", \"content\": sys_prompt},\n",
    "        {\"role\": \"user\", \"content\": user_prompt},\n",
    "        {\"role\": \"assistant\", \"content\": assistant}\n",
    "    ]})"
   ]
  },
  {
   "cell_type": "code",
   "execution_count": 5,
   "metadata": {},
   "outputs": [
    {
     "name": "stderr",
     "output_type": "stream",
     "text": [
      "Downloading readme: 100%|██████████| 1.39k/1.39k [00:00<00:00, 9.25MB/s]\n",
      "Downloading data: 100%|██████████| 43.4M/43.4M [00:01<00:00, 33.9MB/s]\n",
      "Generating train split: 100%|██████████| 52002/52002 [00:00<00:00, 174420.13 examples/s]\n",
      "52002it [00:01, 42963.70it/s]        \n"
     ]
    }
   ],
   "source": [
    "ds = load_dataset(\"llm-wizard/alpaca-gpt4-data\", trust_remote_code=True, token=HF_TOKEN)\n",
    "\n",
    "for row in tqdm(ds[\"train\"], total=len(ds)):\n",
    "    sys_prompt = \"Below is an instruction that describes a task. Write a response that appropriately completes the request.\"\n",
    "    user_prompt = (\n",
    "        f\"{row['instruction'].strip()}\\n\\n{row['input'].strip()}\"\n",
    "        if row[\"input\"]\n",
    "        else row[\"instruction\"].strip()\n",
    "    )\n",
    "    assistant = row[\"output\"].strip()\n",
    "\n",
    "    all_rows.append({\"messages\": [\n",
    "        {\"role\": \"system\", \"content\": sys_prompt},\n",
    "        {\"role\": \"user\", \"content\": user_prompt},\n",
    "        {\"role\": \"assistant\", \"content\": assistant}\n",
    "    ]})"
   ]
  },
  {
   "cell_type": "code",
   "execution_count": 6,
   "metadata": {},
   "outputs": [
    {
     "name": "stdout",
     "output_type": "stream",
     "text": [
      "Wrote 1446956 rows to sft_data.jsonl\n"
     ]
    }
   ],
   "source": [
    "shuffle(all_rows)\n",
    "\n",
    "with open(\"raw_data/sft_data.jsonl\", \"w\", encoding=\"utf-8\") as f:\n",
    "    for row in all_rows:\n",
    "        f.write(json.dumps(row, ensure_ascii=False) + \"\\n\")\n",
    "\n",
    "print(f\"Wrote {len(all_rows)} rows to sft_data.jsonl\")"
   ]
  },
  {
   "cell_type": "code",
   "execution_count": 7,
   "metadata": {},
   "outputs": [
    {
     "name": "stderr",
     "output_type": "stream",
     "text": [
      "Downloading readme: 100%|██████████| 387/387 [00:00<00:00, 1.70MB/s]\n",
      "Downloading data: 100%|██████████| 20.5M/20.5M [00:00<00:00, 20.7MB/s]\n",
      "Generating train split: 100%|██████████| 12359/12359 [00:00<00:00, 146039.37 examples/s]\n",
      "12359it [00:00, 31618.45it/s]        \n"
     ]
    }
   ],
   "source": [
    "all_rows = []\n",
    "\n",
    "ds = load_dataset(\"PawanKrd/dpo-gpt-4o\", trust_remote_code=True, token=HF_TOKEN)\n",
    "\n",
    "for row in tqdm(ds[\"train\"], total=len(ds)):\n",
    "    sys_prompt = (\n",
    "        row[\"system\"].strip()\n",
    "        if row[\"system\"]\n",
    "        else \"You are a helpful AI assistant. Answer the following question, as per the given instructions.\"\n",
    "    )\n",
    "    user_prompt = row[\"prompt\"].strip()\n",
    "    chosen = row[\"chosen\"].strip()\n",
    "    rejected = row[\"rejected\"].strip()\n",
    "\n",
    "    all_rows.append(\n",
    "        {\n",
    "            \"chosen\": [\n",
    "                {\"role\": \"system\", \"content\": sys_prompt},\n",
    "                {\"role\": \"user\", \"content\": user_prompt},\n",
    "                {\"role\": \"assistant\", \"content\": chosen},\n",
    "            ],\n",
    "            \"rejected\": [\n",
    "                {\"role\": \"system\", \"content\": sys_prompt},\n",
    "                {\"role\": \"user\", \"content\": user_prompt},\n",
    "                {\"role\": \"assistant\", \"content\": rejected},\n",
    "            ],\n",
    "        }\n",
    "    )"
   ]
  },
  {
   "cell_type": "code",
   "execution_count": 8,
   "metadata": {},
   "outputs": [
    {
     "name": "stdout",
     "output_type": "stream",
     "text": [
      "Wrote 12359 rows to dpo_data.jsonl\n"
     ]
    }
   ],
   "source": [
    "shuffle(all_rows)\n",
    "\n",
    "with open(\"raw_data/dpo_data.jsonl\", \"w\", encoding=\"utf-8\") as f:\n",
    "    for row in all_rows:\n",
    "        f.write(json.dumps(row, ensure_ascii=False) + \"\\n\")\n",
    "\n",
    "print(f\"Wrote {len(all_rows)} rows to dpo_data.jsonl\")"
   ]
  }
 ],
 "metadata": {
  "kernelspec": {
   "display_name": "fairseq",
   "language": "python",
   "name": "python3"
  },
  "language_info": {
   "codemirror_mode": {
    "name": "ipython",
    "version": 3
   },
   "file_extension": ".py",
   "mimetype": "text/x-python",
   "name": "python",
   "nbconvert_exporter": "python",
   "pygments_lexer": "ipython3",
   "version": "3.12.3"
  }
 },
 "nbformat": 4,
 "nbformat_minor": 2
}
