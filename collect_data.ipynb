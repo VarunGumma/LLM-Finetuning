{
 "cells": [
  {
   "cell_type": "code",
   "execution_count": 1,
   "metadata": {},
   "outputs": [
    {
     "name": "stderr",
     "output_type": "stream",
     "text": [
      "/home/t-gummavarun/.miniconda3/envs/fairseq/lib/python3.12/site-packages/tqdm/auto.py:21: TqdmWarning: IProgress not found. Please update jupyter and ipywidgets. See https://ipywidgets.readthedocs.io/en/stable/user_install.html\n",
      "  from .autonotebook import tqdm as notebook_tqdm\n"
     ]
    }
   ],
   "source": [
    "from datasets import load_dataset\n",
    "from tqdm import tqdm\n",
    "from random import shuffle\n",
    "import json\n",
    "\n",
    "HF_TOKEN = \"<your-hf-token>\"\n",
    "\n",
    "all_rows = []"
   ]
  },
  {
   "cell_type": "code",
   "execution_count": 2,
   "metadata": {},
   "outputs": [
    {
     "name": "stderr",
     "output_type": "stream",
     "text": [
      "994896it [00:30, 32466.35it/s]       \n"
     ]
    }
   ],
   "source": [
    "ds = load_dataset(\"Open-Orca/1million-gpt-4\", trust_remote_code=True, token=HF_TOKEN)\n",
    "\n",
    "for row in tqdm(ds[\"train\"], total=len(ds)):\n",
    "    sys_prompt = (\n",
    "        row[\"system_prompt\"].strip()\n",
    "        if row[\"system_prompt\"]\n",
    "        else \"You are a helpful AI assistant. Answer the following question, as per the given instructions.\"\n",
    "    )\n",
    "    user_prompt = row[\"question\"].strip()\n",
    "    assistant = row[\"response\"].strip()\n",
    "\n",
    "    obj = [\n",
    "        {\"role\": \"system\", \"content\": sys_prompt},\n",
    "        {\"role\": \"user\", \"content\": user_prompt},\n",
    "        {\"role\": \"assistant\", \"content\": assistant},\n",
    "    ]\n",
    "\n",
    "    all_rows.append({\"messages\": obj})"
   ]
  },
  {
   "cell_type": "code",
   "execution_count": 3,
   "metadata": {},
   "outputs": [
    {
     "name": "stderr",
     "output_type": "stream",
     "text": [
      "200035it [00:04, 45755.83it/s]       \n"
     ]
    }
   ],
   "source": [
    "ds = load_dataset(\"PawanKrd/math-gpt-4o-200k\", trust_remote_code=True, token=HF_TOKEN)\n",
    "\n",
    "for row in tqdm(ds[\"train\"], total=len(ds)):\n",
    "    sys_prompt = \"You are a helpful AI math assistant. Answer the following question, and provide a step-by-step logical solution.\"\n",
    "    user_prompt = row[\"prompt\"].strip()\n",
    "    assistant = row[\"response\"].strip()\n",
    "\n",
    "    obj = [\n",
    "        {\"role\": \"system\", \"content\": sys_prompt},\n",
    "        {\"role\": \"user\", \"content\": user_prompt},\n",
    "        {\"role\": \"assistant\", \"content\": assistant},\n",
    "    ]\n",
    "\n",
    "    all_rows.append({\"messages\": obj})"
   ]
  },
  {
   "cell_type": "code",
   "execution_count": 4,
   "metadata": {},
   "outputs": [
    {
     "name": "stderr",
     "output_type": "stream",
     "text": [
      "200023it [00:04, 42383.27it/s]       \n"
     ]
    }
   ],
   "source": [
    "ds = load_dataset(\"PawanKrd/gpt-4o-200k\", trust_remote_code=True, token=HF_TOKEN)\n",
    "\n",
    "for row in tqdm(ds[\"train\"], total=len(ds)):\n",
    "    sys_prompt = (\n",
    "        row[\"system\"].strip()\n",
    "        if row[\"system\"]\n",
    "        else \"You are a helpful AI assistant. Answer the following question, as per the given instructions.\"\n",
    "    )\n",
    "    user_prompt = row[\"prompt\"].strip()\n",
    "    assistant = row[\"response\"].strip()\n",
    "\n",
    "    obj = [\n",
    "        {\"role\": \"system\", \"content\": sys_prompt},\n",
    "        {\"role\": \"user\", \"content\": user_prompt},\n",
    "        {\"role\": \"assistant\", \"content\": assistant},\n",
    "    ]\n",
    "\n",
    "    all_rows.append({\"messages\": obj})"
   ]
  },
  {
   "cell_type": "code",
   "execution_count": 5,
   "metadata": {},
   "outputs": [
    {
     "name": "stderr",
     "output_type": "stream",
     "text": [
      "52002it [00:01, 32819.42it/s]        \n"
     ]
    }
   ],
   "source": [
    "ds = load_dataset(\"llm-wizard/alpaca-gpt4-data\", trust_remote_code=True, token=HF_TOKEN)\n",
    "\n",
    "for row in tqdm(ds[\"train\"], total=len(ds)):\n",
    "    sys_prompt = \"You are a helpful AI assistant. Answer the following question, as per the given instructions.\"\n",
    "    user_prompt = (\n",
    "        f\"{row['instruction'].strip()}\\n\\n{row['input'].strip()}\"\n",
    "        if row[\"input\"]\n",
    "        else row[\"instruction\"].strip()\n",
    "    )\n",
    "    assistant = row[\"output\"].strip()\n",
    "\n",
    "    obj = [\n",
    "        {\"role\": \"system\", \"content\": sys_prompt},\n",
    "        {\"role\": \"user\", \"content\": user_prompt},\n",
    "        {\"role\": \"assistant\", \"content\": assistant},\n",
    "    ]\n",
    "\n",
    "    all_rows.append({\"messages\": obj})"
   ]
  },
  {
   "cell_type": "code",
   "execution_count": 6,
   "metadata": {},
   "outputs": [
    {
     "name": "stdout",
     "output_type": "stream",
     "text": [
      "Wrote 1446956 rows to sft_data.jsonl\n"
     ]
    }
   ],
   "source": [
    "shuffle(all_rows)\n",
    "\n",
    "with open(\"sft_data.jsonl\", \"w\", encoding=\"utf-8\") as f:\n",
    "    for row in all_rows:\n",
    "        f.write(json.dumps(row, ensure_ascii=False) + \"\\n\")\n",
    "\n",
    "print(f\"Wrote {len(all_rows)} rows to sft_data.jsonl\")"
   ]
  },
  {
   "cell_type": "code",
   "execution_count": 7,
   "metadata": {},
   "outputs": [
    {
     "name": "stderr",
     "output_type": "stream",
     "text": [
      "12359it [00:00, 29863.70it/s]        \n"
     ]
    }
   ],
   "source": [
    "all_rows = []\n",
    "\n",
    "ds = load_dataset(\"PawanKrd/dpo-gpt-4o\", trust_remote_code=True, token=HF_TOKEN)\n",
    "\n",
    "for row in tqdm(ds[\"train\"], total=len(ds)):\n",
    "    sys_prompt = (\n",
    "        row[\"system\"].strip()\n",
    "        if row[\"system\"]\n",
    "        else \"You are a helpful AI assistant. Answer the following question, as per the given instructions.\"\n",
    "    )\n",
    "    user_prompt = row[\"prompt\"].strip()\n",
    "    chosen = row[\"chosen\"].strip()\n",
    "    rejected = row[\"rejected\"].strip()\n",
    "\n",
    "\n",
    "    chosen_obj = [\n",
    "        {\"role\": \"system\", \"content\": sys_prompt},\n",
    "        {\"role\": \"user\", \"content\": user_prompt},\n",
    "        {\"role\": \"assistant\", \"content\": chosen}\n",
    "    ]\n",
    "\n",
    "    rejected_obj = [\n",
    "        {\"role\": \"system\", \"content\": sys_prompt},\n",
    "        {\"role\": \"user\", \"content\": user_prompt},\n",
    "        {\"role\": \"assistant\", \"content\": rejected}\n",
    "    ]\n",
    "    \n",
    "    obj = {\n",
    "        \"chosen\": chosen_obj,\n",
    "        \"rejected\": rejected_obj\n",
    "    }\n",
    "\n",
    "    all_rows.append(obj)"
   ]
  },
  {
   "cell_type": "code",
   "execution_count": 8,
   "metadata": {},
   "outputs": [
    {
     "name": "stdout",
     "output_type": "stream",
     "text": [
      "Wrote 12359 rows to dpo_data.jsonl\n"
     ]
    }
   ],
   "source": [
    "shuffle(all_rows)\n",
    "\n",
    "with open(\"dpo_data.jsonl\", \"w\", encoding=\"utf-8\") as f:\n",
    "    for row in all_rows:\n",
    "        f.write(json.dumps(row, ensure_ascii=False) + \"\\n\")\n",
    "\n",
    "print(f\"Wrote {len(all_rows)} rows to dpo_data.jsonl\")"
   ]
  }
 ],
 "metadata": {
  "kernelspec": {
   "display_name": "fairseq",
   "language": "python",
   "name": "python3"
  },
  "language_info": {
   "codemirror_mode": {
    "name": "ipython",
    "version": 3
   },
   "file_extension": ".py",
   "mimetype": "text/x-python",
   "name": "python",
   "nbconvert_exporter": "python",
   "pygments_lexer": "ipython3",
   "version": "3.12.4"
  }
 },
 "nbformat": 4,
 "nbformat_minor": 2
}
